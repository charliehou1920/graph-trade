{
 "cells": [
  {
   "cell_type": "code",
   "execution_count": 1,
   "metadata": {},
   "outputs": [],
   "source": [
    "import numpy as np\n",
    "import pandas as pd\n",
    "from torch_geometric.data import Data"
   ]
  },
  {
   "cell_type": "code",
   "execution_count": 3,
   "metadata": {},
   "outputs": [
    {
     "data": {
      "text/html": [
       "<div>\n",
       "<style scoped>\n",
       "    .dataframe tbody tr th:only-of-type {\n",
       "        vertical-align: middle;\n",
       "    }\n",
       "\n",
       "    .dataframe tbody tr th {\n",
       "        vertical-align: top;\n",
       "    }\n",
       "\n",
       "    .dataframe thead th {\n",
       "        text-align: right;\n",
       "    }\n",
       "</style>\n",
       "<table border=\"1\" class=\"dataframe\">\n",
       "  <thead>\n",
       "    <tr style=\"text-align: right;\">\n",
       "      <th></th>\n",
       "      <th></th>\n",
       "      <th>Close</th>\n",
       "      <th>NormClose</th>\n",
       "      <th>DailyLogReturn</th>\n",
       "      <th>ALR1W</th>\n",
       "      <th>ALR2W</th>\n",
       "      <th>ALR1M</th>\n",
       "      <th>ALR2M</th>\n",
       "      <th>RSI</th>\n",
       "      <th>MACD</th>\n",
       "    </tr>\n",
       "    <tr>\n",
       "      <th>Symbol</th>\n",
       "      <th>Date</th>\n",
       "      <th></th>\n",
       "      <th></th>\n",
       "      <th></th>\n",
       "      <th></th>\n",
       "      <th></th>\n",
       "      <th></th>\n",
       "      <th></th>\n",
       "      <th></th>\n",
       "      <th></th>\n",
       "    </tr>\n",
       "  </thead>\n",
       "  <tbody>\n",
       "    <tr>\n",
       "      <th rowspan=\"5\" valign=\"top\">AAPL</th>\n",
       "      <th>2020-02-14 00:00:00-05:00</th>\n",
       "      <td>78.945244</td>\n",
       "      <td>-1.717131</td>\n",
       "      <td>0.012339</td>\n",
       "      <td>0.375774</td>\n",
       "      <td>0.891135</td>\n",
       "      <td>0.537198</td>\n",
       "      <td>1.441355</td>\n",
       "      <td>0.616398</td>\n",
       "      <td>1.705852</td>\n",
       "    </tr>\n",
       "    <tr>\n",
       "      <th>2020-02-18 00:00:00-05:00</th>\n",
       "      <td>77.499710</td>\n",
       "      <td>-1.751778</td>\n",
       "      <td>-0.927029</td>\n",
       "      <td>-0.196117</td>\n",
       "      <td>0.616552</td>\n",
       "      <td>0.169253</td>\n",
       "      <td>1.138491</td>\n",
       "      <td>0.549690</td>\n",
       "      <td>1.539877</td>\n",
       "    </tr>\n",
       "    <tr>\n",
       "      <th>2020-02-19 00:00:00-05:00</th>\n",
       "      <td>78.622124</td>\n",
       "      <td>-1.724876</td>\n",
       "      <td>0.721292</td>\n",
       "      <td>0.307105</td>\n",
       "      <td>0.300578</td>\n",
       "      <td>0.209332</td>\n",
       "      <td>1.244552</td>\n",
       "      <td>0.587059</td>\n",
       "      <td>1.481828</td>\n",
       "    </tr>\n",
       "    <tr>\n",
       "      <th>2020-02-20 00:00:00-05:00</th>\n",
       "      <td>77.815559</td>\n",
       "      <td>-1.744207</td>\n",
       "      <td>-0.517268</td>\n",
       "      <td>-0.524958</td>\n",
       "      <td>-0.021182</td>\n",
       "      <td>0.167552</td>\n",
       "      <td>1.176899</td>\n",
       "      <td>0.551633</td>\n",
       "      <td>1.355121</td>\n",
       "    </tr>\n",
       "    <tr>\n",
       "      <th>2020-02-21 00:00:00-05:00</th>\n",
       "      <td>76.054199</td>\n",
       "      <td>-1.786423</td>\n",
       "      <td>-1.148492</td>\n",
       "      <td>-0.912862</td>\n",
       "      <td>-0.623824</td>\n",
       "      <td>-0.147209</td>\n",
       "      <td>0.972770</td>\n",
       "      <td>0.483076</td>\n",
       "      <td>1.099898</td>\n",
       "    </tr>\n",
       "  </tbody>\n",
       "</table>\n",
       "</div>"
      ],
      "text/plain": [
       "                                      Close  NormClose  DailyLogReturn  \\\n",
       "Symbol Date                                                              \n",
       "AAPL   2020-02-14 00:00:00-05:00  78.945244  -1.717131        0.012339   \n",
       "       2020-02-18 00:00:00-05:00  77.499710  -1.751778       -0.927029   \n",
       "       2020-02-19 00:00:00-05:00  78.622124  -1.724876        0.721292   \n",
       "       2020-02-20 00:00:00-05:00  77.815559  -1.744207       -0.517268   \n",
       "       2020-02-21 00:00:00-05:00  76.054199  -1.786423       -1.148492   \n",
       "\n",
       "                                     ALR1W     ALR2W     ALR1M     ALR2M  \\\n",
       "Symbol Date                                                                \n",
       "AAPL   2020-02-14 00:00:00-05:00  0.375774  0.891135  0.537198  1.441355   \n",
       "       2020-02-18 00:00:00-05:00 -0.196117  0.616552  0.169253  1.138491   \n",
       "       2020-02-19 00:00:00-05:00  0.307105  0.300578  0.209332  1.244552   \n",
       "       2020-02-20 00:00:00-05:00 -0.524958 -0.021182  0.167552  1.176899   \n",
       "       2020-02-21 00:00:00-05:00 -0.912862 -0.623824 -0.147209  0.972770   \n",
       "\n",
       "                                       RSI      MACD  \n",
       "Symbol Date                                           \n",
       "AAPL   2020-02-14 00:00:00-05:00  0.616398  1.705852  \n",
       "       2020-02-18 00:00:00-05:00  0.549690  1.539877  \n",
       "       2020-02-19 00:00:00-05:00  0.587059  1.481828  \n",
       "       2020-02-20 00:00:00-05:00  0.551633  1.355121  \n",
       "       2020-02-21 00:00:00-05:00  0.483076  1.099898  "
      ]
     },
     "execution_count": 3,
     "metadata": {},
     "output_type": "execute_result"
    }
   ],
   "source": [
    "values = pd.read_csv('../data/SP100/values.csv').set_index(['Symbol', 'Date'])\n",
    "values.head()"
   ]
  },
  {
   "cell_type": "code",
   "execution_count": 4,
   "metadata": {},
   "outputs": [
    {
     "data": {
      "text/plain": [
       "array([[0.        , 0.        , 0.        , 0.        , 0.        ,\n",
       "        0.        , 0.        , 0.        , 0.        , 0.        ],\n",
       "       [0.        , 0.        , 0.        , 0.        , 0.        ,\n",
       "        0.        , 0.        , 0.85829308, 0.72785829, 0.        ],\n",
       "       [0.        , 0.        , 0.        , 0.        , 0.        ,\n",
       "        0.        , 0.        , 0.        , 0.        , 0.        ],\n",
       "       [0.        , 0.        , 0.        , 0.        , 0.        ,\n",
       "        0.        , 0.        , 0.        , 0.        , 0.        ],\n",
       "       [0.        , 0.        , 0.        , 0.        , 0.        ,\n",
       "        0.        , 0.        , 0.        , 0.        , 0.        ],\n",
       "       [0.        , 0.        , 0.        , 0.        , 0.        ,\n",
       "        0.        , 0.        , 0.        , 0.        , 0.        ],\n",
       "       [0.        , 0.        , 0.        , 0.        , 0.        ,\n",
       "        0.        , 0.        , 0.        , 0.        , 0.        ],\n",
       "       [0.        , 0.85829308, 0.        , 0.        , 0.        ,\n",
       "        0.        , 0.        , 0.        , 0.        , 0.72785829],\n",
       "       [0.        , 0.72785829, 0.        , 0.        , 0.        ,\n",
       "        0.        , 0.        , 0.        , 0.        , 0.        ],\n",
       "       [0.        , 0.        , 0.        , 0.        , 0.        ,\n",
       "        0.        , 0.        , 0.72785829, 0.        , 0.        ]])"
      ]
     },
     "execution_count": 4,
     "metadata": {},
     "output_type": "execute_result"
    }
   ],
   "source": [
    "adj = np.load('../data/SP100/adj.npy')\n",
    "adj[:10, :10]"
   ]
  },
  {
   "cell_type": "markdown",
   "metadata": {},
   "source": [
    "### Creating the feature matrix and edge indices\n",
    "The feature matrix is a 3D matrix of shape (stocks_nb, features_nb, timestamps_nb). The adjacency matrix is used to create the edge_index matrix in the PyTorch Geomtric format."
   ]
  },
  {
   "cell_type": "code",
   "execution_count": 5,
   "metadata": {},
   "outputs": [
    {
     "data": {
      "text/plain": [
       "((100, 8, 1216), (2, 570), (570,))"
      ]
     },
     "execution_count": 5,
     "metadata": {},
     "output_type": "execute_result"
    }
   ],
   "source": [
    "nodes_nb = len(adj)\n",
    "x = np.array(\n",
    "\tvalues.drop(columns=[\"Close\"]).to_numpy().reshape((nodes_nb, -1, values.shape[1] - 1))\n",
    ")  # shape (nodes_nb, timestamps_nb, features_nb)\n",
    "x = np.swapaxes(x, 1, 2)  # shape (nodes_nb, features_nb, timestamps_nb)\n",
    "\n",
    "edge_nb = np.count_nonzero(adj)\n",
    "edge_index = np.zeros((2, edge_nb))\n",
    "edge_weight = np.zeros((edge_nb,))\n",
    "count = 0\n",
    "for i in range(nodes_nb):\n",
    "\tfor j in range(nodes_nb):\n",
    "\t\tif (weight := adj[i, j]) != 0:\n",
    "\t\t\tedge_index[0, count], edge_index[1, count] = i, j\n",
    "\t\t\tedge_weight[count] = weight\n",
    "\t\t\tcount += 1\n",
    "x.shape, edge_index.shape, edge_weight.shape"
   ]
  },
  {
   "cell_type": "code",
   "execution_count": 6,
   "metadata": {},
   "outputs": [
    {
     "data": {
      "text/plain": [
       "[Data(x=[100, 8, 25], edge_index=[2, 570], y=[100, 1], edge_weight=[570]),\n",
       " Data(x=[100, 8, 25], edge_index=[2, 570], y=[100, 1], edge_weight=[570]),\n",
       " Data(x=[100, 8, 25], edge_index=[2, 570], y=[100, 1], edge_weight=[570]),\n",
       " Data(x=[100, 8, 25], edge_index=[2, 570], y=[100, 1], edge_weight=[570]),\n",
       " Data(x=[100, 8, 25], edge_index=[2, 570], y=[100, 1], edge_weight=[570])]"
      ]
     },
     "execution_count": 6,
     "metadata": {},
     "output_type": "execute_result"
    }
   ],
   "source": [
    "past_window, future_window = 25, 1\n",
    "timestamps = [\n",
    "\tData(x=x[:, :, idx:idx+past_window], edge_index=edge_index, edge_weight=edge_weight, y=x[:, 0, idx+past_window:idx+past_window+future_window]) for idx in range(x.shape[0] - past_window - future_window)\n",
    "]\n",
    "timestamps[:5]"
   ]
  }
 ],
 "metadata": {
  "kernelspec": {
   "display_name": "graph-trade",
   "language": "python",
   "name": "python3"
  },
  "language_info": {
   "codemirror_mode": {
    "name": "ipython",
    "version": 3
   },
   "file_extension": ".py",
   "mimetype": "text/x-python",
   "name": "python",
   "nbconvert_exporter": "python",
   "pygments_lexer": "ipython3",
   "version": "3.10.15"
  }
 },
 "nbformat": 4,
 "nbformat_minor": 2
}
