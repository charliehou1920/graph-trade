{
 "cells": [
  {
   "cell_type": "code",
   "execution_count": 1,
   "metadata": {},
   "outputs": [],
   "source": [
    "import numpy as np\n",
    "import pandas as pd\n",
    "from torch_geometric.data import Data"
   ]
  },
  {
   "cell_type": "code",
   "execution_count": 3,
   "metadata": {},
   "outputs": [
    {
     "data": {
      "text/html": [
       "<div>\n",
       "<style scoped>\n",
       "    .dataframe tbody tr th:only-of-type {\n",
       "        vertical-align: middle;\n",
       "    }\n",
       "\n",
       "    .dataframe tbody tr th {\n",
       "        vertical-align: top;\n",
       "    }\n",
       "\n",
       "    .dataframe thead th {\n",
       "        text-align: right;\n",
       "    }\n",
       "</style>\n",
       "<table border=\"1\" class=\"dataframe\">\n",
       "  <thead>\n",
       "    <tr style=\"text-align: right;\">\n",
       "      <th></th>\n",
       "      <th></th>\n",
       "      <th>Close</th>\n",
       "      <th>NormClose</th>\n",
       "      <th>DailyLogReturn</th>\n",
       "      <th>ALR1W</th>\n",
       "      <th>ALR2W</th>\n",
       "      <th>ALR1M</th>\n",
       "      <th>ALR2M</th>\n",
       "      <th>RSI</th>\n",
       "      <th>MACD</th>\n",
       "      <th>Momentum</th>\n",
       "      <th>Volatility</th>\n",
       "    </tr>\n",
       "    <tr>\n",
       "      <th>Symbol</th>\n",
       "      <th>Date</th>\n",
       "      <th></th>\n",
       "      <th></th>\n",
       "      <th></th>\n",
       "      <th></th>\n",
       "      <th></th>\n",
       "      <th></th>\n",
       "      <th></th>\n",
       "      <th></th>\n",
       "      <th></th>\n",
       "      <th></th>\n",
       "      <th></th>\n",
       "    </tr>\n",
       "  </thead>\n",
       "  <tbody>\n",
       "    <tr>\n",
       "      <th rowspan=\"5\" valign=\"top\">AAPL</th>\n",
       "      <th>2020-04-28 00:00:00-04:00</th>\n",
       "      <td>67.679855</td>\n",
       "      <td>-1.991534</td>\n",
       "      <td>-0.819888</td>\n",
       "      <td>0.919618</td>\n",
       "      <td>-0.522890</td>\n",
       "      <td>1.396465</td>\n",
       "      <td>0.156702</td>\n",
       "      <td>0.536292</td>\n",
       "      <td>0.983231</td>\n",
       "      <td>-0.283287</td>\n",
       "      <td>67.672881</td>\n",
       "    </tr>\n",
       "    <tr>\n",
       "      <th>2020-04-29 00:00:00-04:00</th>\n",
       "      <td>69.902809</td>\n",
       "      <td>-1.938323</td>\n",
       "      <td>1.621364</td>\n",
       "      <td>1.016196</td>\n",
       "      <td>0.201390</td>\n",
       "      <td>1.446206</td>\n",
       "      <td>0.437971</td>\n",
       "      <td>0.579621</td>\n",
       "      <td>1.133669</td>\n",
       "      <td>2.102058</td>\n",
       "      <td>69.746466</td>\n",
       "    </tr>\n",
       "    <tr>\n",
       "      <th>2020-04-30 00:00:00-04:00</th>\n",
       "      <td>71.377480</td>\n",
       "      <td>-1.903023</td>\n",
       "      <td>1.047382</td>\n",
       "      <td>1.625991</td>\n",
       "      <td>0.427684</td>\n",
       "      <td>1.719003</td>\n",
       "      <td>-0.144546</td>\n",
       "      <td>0.605928</td>\n",
       "      <td>1.356252</td>\n",
       "      <td>3.508858</td>\n",
       "      <td>71.993274</td>\n",
       "    </tr>\n",
       "    <tr>\n",
       "      <th>2020-05-01 00:00:00-04:00</th>\n",
       "      <td>70.228363</td>\n",
       "      <td>-1.930530</td>\n",
       "      <td>-0.814270</td>\n",
       "      <td>0.525298</td>\n",
       "      <td>0.382843</td>\n",
       "      <td>2.169176</td>\n",
       "      <td>-0.007386</td>\n",
       "      <td>0.575696</td>\n",
       "      <td>1.423517</td>\n",
       "      <td>2.500305</td>\n",
       "      <td>72.594939</td>\n",
       "    </tr>\n",
       "    <tr>\n",
       "      <th>2020-05-04 00:00:00-04:00</th>\n",
       "      <td>71.222000</td>\n",
       "      <td>-1.906745</td>\n",
       "      <td>0.704866</td>\n",
       "      <td>0.853921</td>\n",
       "      <td>0.994312</td>\n",
       "      <td>2.139425</td>\n",
       "      <td>-0.274888</td>\n",
       "      <td>0.594534</td>\n",
       "      <td>1.539259</td>\n",
       "      <td>2.388748</td>\n",
       "      <td>70.131336</td>\n",
       "    </tr>\n",
       "  </tbody>\n",
       "</table>\n",
       "</div>"
      ],
      "text/plain": [
       "                                      Close  NormClose  DailyLogReturn  \\\n",
       "Symbol Date                                                              \n",
       "AAPL   2020-04-28 00:00:00-04:00  67.679855  -1.991534       -0.819888   \n",
       "       2020-04-29 00:00:00-04:00  69.902809  -1.938323        1.621364   \n",
       "       2020-04-30 00:00:00-04:00  71.377480  -1.903023        1.047382   \n",
       "       2020-05-01 00:00:00-04:00  70.228363  -1.930530       -0.814270   \n",
       "       2020-05-04 00:00:00-04:00  71.222000  -1.906745        0.704866   \n",
       "\n",
       "                                     ALR1W     ALR2W     ALR1M     ALR2M  \\\n",
       "Symbol Date                                                                \n",
       "AAPL   2020-04-28 00:00:00-04:00  0.919618 -0.522890  1.396465  0.156702   \n",
       "       2020-04-29 00:00:00-04:00  1.016196  0.201390  1.446206  0.437971   \n",
       "       2020-04-30 00:00:00-04:00  1.625991  0.427684  1.719003 -0.144546   \n",
       "       2020-05-01 00:00:00-04:00  0.525298  0.382843  2.169176 -0.007386   \n",
       "       2020-05-04 00:00:00-04:00  0.853921  0.994312  2.139425 -0.274888   \n",
       "\n",
       "                                       RSI      MACD  Momentum  Volatility  \n",
       "Symbol Date                                                                 \n",
       "AAPL   2020-04-28 00:00:00-04:00  0.536292  0.983231 -0.283287   67.672881  \n",
       "       2020-04-29 00:00:00-04:00  0.579621  1.133669  2.102058   69.746466  \n",
       "       2020-04-30 00:00:00-04:00  0.605928  1.356252  3.508858   71.993274  \n",
       "       2020-05-01 00:00:00-04:00  0.575696  1.423517  2.500305   72.594939  \n",
       "       2020-05-04 00:00:00-04:00  0.594534  1.539259  2.388748   70.131336  "
      ]
     },
     "execution_count": 3,
     "metadata": {},
     "output_type": "execute_result"
    }
   ],
   "source": [
    "values = pd.read_csv('../data/SP100/values.csv').set_index(['Symbol', 'Date'])\n",
    "values.head()"
   ]
  },
  {
   "cell_type": "code",
   "execution_count": 4,
   "metadata": {},
   "outputs": [
    {
     "data": {
      "text/plain": [
       "array([[0.        , 0.        , 0.        , 0.        , 0.        ,\n",
       "        0.        , 0.        , 0.        , 0.        , 0.        ],\n",
       "       [0.        , 0.        , 0.        , 0.        , 0.        ,\n",
       "        0.        , 0.        , 0.85829308, 0.72785829, 0.        ],\n",
       "       [0.        , 0.        , 0.        , 0.        , 0.        ,\n",
       "        0.        , 0.        , 0.        , 0.        , 0.        ],\n",
       "       [0.        , 0.        , 0.        , 0.        , 0.        ,\n",
       "        0.        , 0.        , 0.        , 0.        , 0.        ],\n",
       "       [0.        , 0.        , 0.        , 0.        , 0.        ,\n",
       "        0.        , 0.        , 0.        , 0.        , 0.        ],\n",
       "       [0.        , 0.        , 0.        , 0.        , 0.        ,\n",
       "        0.        , 0.        , 0.        , 0.        , 0.        ],\n",
       "       [0.        , 0.        , 0.        , 0.        , 0.        ,\n",
       "        0.        , 0.        , 0.        , 0.        , 0.        ],\n",
       "       [0.        , 0.85829308, 0.        , 0.        , 0.        ,\n",
       "        0.        , 0.        , 0.        , 0.        , 0.72785829],\n",
       "       [0.        , 0.72785829, 0.        , 0.        , 0.        ,\n",
       "        0.        , 0.        , 0.        , 0.        , 0.        ],\n",
       "       [0.        , 0.        , 0.        , 0.        , 0.        ,\n",
       "        0.        , 0.        , 0.72785829, 0.        , 0.        ]])"
      ]
     },
     "execution_count": 4,
     "metadata": {},
     "output_type": "execute_result"
    }
   ],
   "source": [
    "adj = np.load('../data/SP100/adj.npy')\n",
    "adj[:15, :15]"
   ]
  },
  {
   "cell_type": "markdown",
   "metadata": {},
   "source": [
    "### Creating the feature matrix and edge indices\n",
    "The feature matrix is a 3D matrix of shape (stocks_nb, features_nb, timestamps_nb). The adjacency matrix is used to create the edge_index matrix in the PyTorch Geomtric format."
   ]
  },
  {
   "cell_type": "code",
   "execution_count": 6,
   "metadata": {},
   "outputs": [
    {
     "data": {
      "text/plain": [
       "((100, 10, 1168), (2, 570), (570,))"
      ]
     },
     "execution_count": 6,
     "metadata": {},
     "output_type": "execute_result"
    }
   ],
   "source": [
    "nodes_nb = len(adj)\n",
    "x = np.array(\n",
    "\tvalues.drop(columns=[\"Close\"]).to_numpy().reshape((nodes_nb, -1, values.shape[1] - 1))\n",
    ")  # shape (nodes_nb, timestamps_nb, features_nb)\n",
    "x = np.swapaxes(x, 1, 2)  # shape (nodes_nb, features_nb, timestamps_nb)\n",
    "\n",
    "edge_nb = np.count_nonzero(adj)\n",
    "edge_index = np.zeros((2, edge_nb))\n",
    "edge_weight = np.zeros((edge_nb,))\n",
    "count = 0\n",
    "for i in range(nodes_nb):\n",
    "\tfor j in range(nodes_nb):\n",
    "\t\tif (weight := adj[i, j]) != 0:\n",
    "\t\t\tedge_index[0, count], edge_index[1, count] = i, j\n",
    "\t\t\tedge_weight[count] = weight\n",
    "\t\t\tcount += 1\n",
    "x.shape, edge_index.shape, edge_weight.shape"
   ]
  },
  {
   "cell_type": "code",
   "execution_count": 6,
   "metadata": {},
   "outputs": [
    {
     "data": {
      "text/plain": [
       "[Data(x=[100, 8, 25], edge_index=[2, 570], y=[100, 1], edge_weight=[570]),\n",
       " Data(x=[100, 8, 25], edge_index=[2, 570], y=[100, 1], edge_weight=[570]),\n",
       " Data(x=[100, 8, 25], edge_index=[2, 570], y=[100, 1], edge_weight=[570]),\n",
       " Data(x=[100, 8, 25], edge_index=[2, 570], y=[100, 1], edge_weight=[570]),\n",
       " Data(x=[100, 8, 25], edge_index=[2, 570], y=[100, 1], edge_weight=[570])]"
      ]
     },
     "execution_count": 6,
     "metadata": {},
     "output_type": "execute_result"
    }
   ],
   "source": [
    "past_window, future_window = 25, 1\n",
    "timestamps = [\n",
    "\tData(x=x[:, :, idx:idx+past_window], edge_index=edge_index, edge_weight=edge_weight, y=x[:, 0, idx+past_window:idx+past_window+future_window]) for idx in range(x.shape[0] - past_window - future_window)\n",
    "]\n",
    "timestamps[:5]"
   ]
  }
 ],
 "metadata": {
  "kernelspec": {
   "display_name": "graph-trade",
   "language": "python",
   "name": "python3"
  },
  "language_info": {
   "codemirror_mode": {
    "name": "ipython",
    "version": 3
   },
   "file_extension": ".py",
   "mimetype": "text/x-python",
   "name": "python",
   "nbconvert_exporter": "python",
   "pygments_lexer": "ipython3",
   "version": "3.10.15"
  }
 },
 "nbformat": 4,
 "nbformat_minor": 2
}
